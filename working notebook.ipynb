{
 "cells": [
  {
   "cell_type": "code",
   "execution_count": 1,
   "metadata": {},
   "outputs": [],
   "source": [
    "def getContours(img,cThr=[100,100],showCanny=False,minArea=1000,filter=0,draw =False):\n",
    "    imgGray = cv2.cvtColor(img,cv2.COLOR_BGR2GRAY)\n",
    "    imgBlur = cv2.GaussianBlur(imgGray,(5,5),1)\n",
    "    imgCanny = cv2.Canny(imgBlur,cThr[0],cThr[1])\n",
    "    kernel = np.ones((5,5))\n",
    "    imgDial = cv2.dilate(imgCanny,kernel,iterations=3)\n",
    "    imgThre = cv2.erode(imgDial,kernel,iterations=2)\n",
    "    if showCanny:cv2.imshow('Canny',imgThre)\n",
    "    contours,hiearchy = cv2.findContours(imgThre,cv2.RETR_EXTERNAL,cv2.CHAIN_APPROX_SIMPLE)\n",
    "    finalCountours = []\n",
    "    for i in contours:\n",
    "        area = cv2.contourArea(i)\n",
    "        if area > minArea:\n",
    "            peri = cv2.arcLength(i,True)\n",
    "            approx = cv2.approxPolyDP(i,0.02*peri,True)\n",
    "            bbox = cv2.boundingRect(approx)\n",
    "            if filter > 0:\n",
    "                if len(approx) == filter:\n",
    "                    finalCountours.append([len(approx),area,approx,bbox,i])\n",
    "            else:\n",
    "                finalCountours.append([len(approx),area,approx,bbox,i])\n",
    "    finalCountours = sorted(finalCountours,key = lambda x:x[1] ,reverse= True)\n",
    "    if draw:\n",
    "        for con in finalCountours:\n",
    "            cv2.drawContours(img,con[4],-1,(0,0,255),3)\n",
    "    return img, finalCountours\n"
   ]
  },
  {
   "cell_type": "code",
   "execution_count": 2,
   "metadata": {},
   "outputs": [],
   "source": [
    "def reorder(myPoints):\n",
    "    #print(myPoints.shape)\n",
    "    myPointsNew = np.zeros_like(myPoints)\n",
    "    myPoints = myPoints.reshape((4,2))\n",
    "    add = myPoints.sum(1)\n",
    "    myPointsNew[0] = myPoints[np.argmin(add)]\n",
    "    myPointsNew[3] = myPoints[np.argmax(add)]\n",
    "    diff = np.diff(myPoints,axis=1)\n",
    "    myPointsNew[1]= myPoints[np.argmin(diff)]\n",
    "    myPointsNew[2] = myPoints[np.argmax(diff)]\n",
    "    return myPointsNew\n",
    "\n",
    "def warpImg (img,points,w,h,pad=20):\n",
    "    # print(points)\n",
    "    points =reorder(points)\n",
    "    pts1 = np.float32(points)\n",
    "    pts2 = np.float32([[0,0],[w,0],[0,h],[w,h]])\n",
    "    matrix = cv2.getPerspectiveTransform(pts1,pts2)\n",
    "    imgWarp = cv2.warpPerspective(img,matrix,(w,h))\n",
    "    imgWarp = imgWarp[pad:imgWarp.shape[0]-pad,pad:imgWarp.shape[1]-pad]\n",
    "    return imgWarp"
   ]
  },
  {
   "cell_type": "code",
   "execution_count": 3,
   "metadata": {},
   "outputs": [],
   "source": [
    "def findDis(pts1,pts2):\n",
    "    return ((pts2[0]-pts1[0])**2 + (pts2[1]-pts1[1])**2)**0.5"
   ]
  },
  {
   "cell_type": "code",
   "execution_count": null,
   "metadata": {},
   "outputs": [],
   "source": []
  },
  {
   "cell_type": "code",
   "execution_count": 4,
   "metadata": {
    "scrolled": true
   },
   "outputs": [],
   "source": [
    "# !pip install opencv-python==4.2.0.32"
   ]
  },
  {
   "cell_type": "code",
   "execution_count": 5,
   "metadata": {},
   "outputs": [],
   "source": [
    "import cv2\n",
    "import numpy as np\n",
    "# from utils.py import getContours\n",
    "# from google.colab.patches import cv2_imshow"
   ]
  },
  {
   "cell_type": "code",
   "execution_count": 6,
   "metadata": {},
   "outputs": [],
   "source": [
    "webcam = False\n",
    "path = 'D:\\\\Real-Time-Object-Measurement-master\\\\1.jpg'\n",
    "cap = cv2.VideoCapture(0)\n",
    "cap.set(10,160)\n",
    "cap.set(3,1920)\n",
    "cap.set(4,1080)\n",
    "scale=3\n",
    "wP = 210*scale\n",
    "hP = 297*scale"
   ]
  },
  {
   "cell_type": "code",
   "execution_count": 7,
   "metadata": {},
   "outputs": [
    {
     "ename": "error",
     "evalue": "OpenCV(4.5.5) D:\\a\\opencv-python\\opencv-python\\opencv\\modules\\imgproc\\src\\color.cpp:182: error: (-215:Assertion failed) !_src.empty() in function 'cv::cvtColor'\n",
     "output_type": "error",
     "traceback": [
      "\u001b[1;31m---------------------------------------------------------------------------\u001b[0m",
      "\u001b[1;31merror\u001b[0m                                     Traceback (most recent call last)",
      "Input \u001b[1;32mIn [7]\u001b[0m, in \u001b[0;36m<cell line: 2>\u001b[1;34m()\u001b[0m\n\u001b[0;32m      5\u001b[0m         img \u001b[38;5;241m=\u001b[39m cv2\u001b[38;5;241m.\u001b[39mimread(path)\n\u001b[0;32m      7\u001b[0m \u001b[38;5;66;03m#     img , conts = getContours(img,showCanny=True,draw=True)\u001b[39;00m\n\u001b[1;32m----> 8\u001b[0m     imgConturs , conts \u001b[38;5;241m=\u001b[39m \u001b[43mgetContours\u001b[49m\u001b[43m(\u001b[49m\u001b[43mimg\u001b[49m\u001b[43m,\u001b[49m\u001b[43mshowCanny\u001b[49m\u001b[38;5;241;43m=\u001b[39;49m\u001b[38;5;28;43;01mTrue\u001b[39;49;00m\u001b[43m,\u001b[49m\u001b[43mminArea\u001b[49m\u001b[38;5;241;43m=\u001b[39;49m\u001b[38;5;241;43m50000\u001b[39;49m\u001b[43m,\u001b[49m\u001b[38;5;28;43mfilter\u001b[39;49m\u001b[38;5;241;43m=\u001b[39;49m\u001b[38;5;241;43m4\u001b[39;49m\u001b[43m)\u001b[49m\n\u001b[0;32m     10\u001b[0m     \u001b[38;5;28;01mif\u001b[39;00m \u001b[38;5;28mlen\u001b[39m(conts) \u001b[38;5;241m!=\u001b[39m \u001b[38;5;241m0\u001b[39m:\n\u001b[0;32m     11\u001b[0m         biggest \u001b[38;5;241m=\u001b[39m conts[\u001b[38;5;241m0\u001b[39m][\u001b[38;5;241m2\u001b[39m]\n",
      "Input \u001b[1;32mIn [1]\u001b[0m, in \u001b[0;36mgetContours\u001b[1;34m(img, cThr, showCanny, minArea, filter, draw)\u001b[0m\n\u001b[0;32m      1\u001b[0m \u001b[38;5;28;01mdef\u001b[39;00m \u001b[38;5;21mgetContours\u001b[39m(img,cThr\u001b[38;5;241m=\u001b[39m[\u001b[38;5;241m100\u001b[39m,\u001b[38;5;241m100\u001b[39m],showCanny\u001b[38;5;241m=\u001b[39m\u001b[38;5;28;01mFalse\u001b[39;00m,minArea\u001b[38;5;241m=\u001b[39m\u001b[38;5;241m1000\u001b[39m,\u001b[38;5;28mfilter\u001b[39m\u001b[38;5;241m=\u001b[39m\u001b[38;5;241m0\u001b[39m,draw \u001b[38;5;241m=\u001b[39m\u001b[38;5;28;01mFalse\u001b[39;00m):\n\u001b[1;32m----> 2\u001b[0m     imgGray \u001b[38;5;241m=\u001b[39m \u001b[43mcv2\u001b[49m\u001b[38;5;241;43m.\u001b[39;49m\u001b[43mcvtColor\u001b[49m\u001b[43m(\u001b[49m\u001b[43mimg\u001b[49m\u001b[43m,\u001b[49m\u001b[43mcv2\u001b[49m\u001b[38;5;241;43m.\u001b[39;49m\u001b[43mCOLOR_BGR2GRAY\u001b[49m\u001b[43m)\u001b[49m\n\u001b[0;32m      3\u001b[0m     imgBlur \u001b[38;5;241m=\u001b[39m cv2\u001b[38;5;241m.\u001b[39mGaussianBlur(imgGray,(\u001b[38;5;241m5\u001b[39m,\u001b[38;5;241m5\u001b[39m),\u001b[38;5;241m1\u001b[39m)\n\u001b[0;32m      4\u001b[0m     imgCanny \u001b[38;5;241m=\u001b[39m cv2\u001b[38;5;241m.\u001b[39mCanny(imgBlur,cThr[\u001b[38;5;241m0\u001b[39m],cThr[\u001b[38;5;241m1\u001b[39m])\n",
      "\u001b[1;31merror\u001b[0m: OpenCV(4.5.5) D:\\a\\opencv-python\\opencv-python\\opencv\\modules\\imgproc\\src\\color.cpp:182: error: (-215:Assertion failed) !_src.empty() in function 'cv::cvtColor'\n"
     ]
    }
   ],
   "source": [
    "while True:\n",
    "    if webcam:\n",
    "        success,img = cap.read()\n",
    "    else:\n",
    "        img = cv2.imread(path)\n",
    "    \n",
    "#     img , conts = getContours(img,showCanny=True,draw=True)\n",
    "    imgConturs , conts = getContours(img,showCanny=True,minArea=50000,filter=4)\n",
    "    \n",
    "    if len(conts) != 0:\n",
    "        biggest = conts[0][2]\n",
    "#         print(biggest)\n",
    "        imgWarp = warpImg(img,biggest,wP,hP)\n",
    "        imgConturs2 , conts2 = getContours(imgWarp,minArea=2000,filter=4,cThr=[50,50],draw=False)\n",
    "        \n",
    "        if len(conts) != 0:\n",
    "            for obj in conts2:\n",
    "                cv2.polylines(imgConturs2,[obj[2]],True,(0,255,0),2)\n",
    "                nPoints = reorder(obj[2])\n",
    "                nW = round((findDis(nPoints[0][0]//scale,nPoints[1][0]//scale)/10),1)\n",
    "                nH = round((findDis(nPoints[0][0]//scale,nPoints[2][0]//scale)/10),1)\n",
    "                \n",
    "                cv2.arrowedLine(imgConturs2, (nPoints[0][0][0], nPoints[0][0][1]), (nPoints[1][0][0], nPoints[1][0][1]),\n",
    "                                (255, 0, 255), 3, 8, 0, 0.05)\n",
    "                cv2.arrowedLine(imgConturs2, (nPoints[0][0][0], nPoints[0][0][1]), (nPoints[2][0][0], nPoints[2][0][1]),\n",
    "                                (255, 0, 255), 3, 8, 0, 0.05)\n",
    "                x, y, w, h = obj[3]\n",
    "                cv2.putText(imgConturs2, '{}cm'.format(nW), (x + 30, y - 10), cv2.FONT_HERSHEY_COMPLEX_SMALL, 1.5,\n",
    "                            (255, 0, 255), 2)\n",
    "                cv2.putText(imgConturs2, '{}cm'.format(nH), (x - 70, y + h // 2), cv2.FONT_HERSHEY_COMPLEX_SMALL, 1.5,\n",
    "                            (255, 0, 255), 2)\n",
    "        \n",
    "        cv2.imshow('A4',imgConturs2)\n",
    "    \n",
    "    img = cv2.resize(img,(0,0),None,0.5,0.5)\n",
    "    cv2.imshow('original',img)\n",
    "#     cv2.waitKey(1)\n",
    "    if cv2.waitKey(0) & 0xFF == ord('q'):\n",
    "        break"
   ]
  },
  {
   "cell_type": "code",
   "execution_count": null,
   "metadata": {},
   "outputs": [],
   "source": []
  },
  {
   "cell_type": "code",
   "execution_count": null,
   "metadata": {},
   "outputs": [],
   "source": []
  }
 ],
 "metadata": {
  "kernelspec": {
   "display_name": "Python 3 (ipykernel)",
   "language": "python",
   "name": "python3"
  },
  "language_info": {
   "codemirror_mode": {
    "name": "ipython",
    "version": 3
   },
   "file_extension": ".py",
   "mimetype": "text/x-python",
   "name": "python",
   "nbconvert_exporter": "python",
   "pygments_lexer": "ipython3",
   "version": "3.8.0"
  }
 },
 "nbformat": 4,
 "nbformat_minor": 2
}
